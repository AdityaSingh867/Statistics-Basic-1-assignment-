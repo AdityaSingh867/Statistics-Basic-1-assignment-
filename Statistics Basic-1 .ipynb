{
 "cells": [
  {
   "cell_type": "markdown",
   "id": "df0bfa04-13b6-4d0c-a4ca-cc73f87bfc15",
   "metadata": {},
   "source": [
    "Q1. What is Statistics?"
   ]
  },
  {
   "cell_type": "markdown",
   "id": "81eb57b3-6d0a-47cd-942c-33ebd5c8d5d4",
   "metadata": {},
   "source": [
    "ANS 1 - Statistics is a science of collecting , organizing , analysing data."
   ]
  },
  {
   "cell_type": "markdown",
   "id": "2088cd6b-45a5-40a7-b233-2d5d7b88a17e",
   "metadata": {},
   "source": [
    "Q2. Define the different types of statistics and give an example of when each type might be used."
   ]
  },
  {
   "cell_type": "markdown",
   "id": "daf9185f-7bd6-402f-aa60-4dbc50490a64",
   "metadata": {},
   "source": [
    "There is descriptive and inferential Statistics"
   ]
  },
  {
   "cell_type": "markdown",
   "id": "08246252-da09-47fb-9c66-bbf548863a1d",
   "metadata": {},
   "source": [
    "Descriptive - it consists of organizing and summarizing data.\n",
    "\n",
    "Mesure of central tendency like -- [ mean , median , mode ]"
   ]
  },
  {
   "cell_type": "markdown",
   "id": "ec72e477-6fe3-4d3d-ac13-de9f42a7629c",
   "metadata": {},
   "source": [
    "Inferential - It consists of using data you have measured to from conclusion.\n",
    "\n",
    "Z - test\n",
    "\n",
    "T - test\n",
    "\n",
    "Sample data and Population data"
   ]
  },
  {
   "cell_type": "markdown",
   "id": "a94aff5a-5fc1-44ca-b6ae-269f6612eae8",
   "metadata": {},
   "source": [
    "Q4. Categorise the following datasets with respect to quantitative and qualitative data types:"
   ]
  },
  {
   "cell_type": "markdown",
   "id": "d313b577-ef0e-45a0-ae17-52d101cf544b",
   "metadata": {},
   "source": [
    "(i) Grading in exam: A+, A, B+, B, C+, C, D, E -- Qualitative "
   ]
  },
  {
   "cell_type": "markdown",
   "id": "d5783a46-15d1-4d27-bc5e-d152f20b031b",
   "metadata": {},
   "source": [
    "(ii) Colour of mangoes: yellow, green, orange, red -- Qualitative "
   ]
  },
  {
   "cell_type": "markdown",
   "id": "924d7e2c-638a-4ef8-8790-d38a802b0730",
   "metadata": {},
   "source": [
    "(iii) Height data of a class: [178.9, 179, 179.5, 176, 177.2, 178.3, 175.8,...] -- Quantitative"
   ]
  },
  {
   "cell_type": "markdown",
   "id": "7da96c4f-0b21-4fdd-9567-a503f4c86ab5",
   "metadata": {},
   "source": [
    "(iv) Number of mangoes exported by a farm: [500, 600, 478, 672, ...] -- Quantitative"
   ]
  },
  {
   "cell_type": "markdown",
   "id": "9f35cd69-4122-4367-b38c-f907b60689b4",
   "metadata": {},
   "source": [
    "Q5. Explain the concept of levels of measurement and give an example of a variable for each level."
   ]
  },
  {
   "cell_type": "markdown",
   "id": "6355da80-9067-4810-b6b7-4e18c9a6e1ff",
   "metadata": {},
   "source": [
    "NOMINAL SCALE DATA\n",
    "\n",
    "EXAMPLE - Gender"
   ]
  },
  {
   "cell_type": "markdown",
   "id": "ff0d5aa2-b7b5-4f0a-8077-37fc443c4ac2",
   "metadata": {},
   "source": [
    "RATIO SCALE DATA\n",
    "\n",
    "EXAMPLE - Student marks"
   ]
  },
  {
   "cell_type": "markdown",
   "id": "cb880266-b809-4c87-9f80-9e85215b1299",
   "metadata": {},
   "source": [
    "ORDINAL SCALE DATA\n",
    "\n",
    "EXAMPLE - Review"
   ]
  },
  {
   "cell_type": "markdown",
   "id": "026339f6-4fe4-49e3-9180-95e25f9f7af7",
   "metadata": {},
   "source": [
    "INTERVAL SCALE DATA\n",
    "\n",
    "EXAMPLE - Temprature "
   ]
  },
  {
   "cell_type": "markdown",
   "id": "572c4a39-d2a3-4ae4-a179-1fbc05330596",
   "metadata": {},
   "source": [
    "Q6. Why is it important to understand the level of measurement when analyzing data? Provide an\n",
    "example to illustrate your answer."
   ]
  },
  {
   "cell_type": "markdown",
   "id": "d64250c4-e3f0-4c48-b068-61bef7705ff4",
   "metadata": {},
   "source": [
    "Because data provided in different types if i have idea of what type of data is , then it will be very easy for us to read and understand it , and easy for plotting graph of data."
   ]
  },
  {
   "cell_type": "markdown",
   "id": "b4063839-de81-4cfe-bf80-a9beb4adeab5",
   "metadata": {},
   "source": [
    "Q7. How nominal data type is different from ordinal data type."
   ]
  },
  {
   "cell_type": "markdown",
   "id": "46a7c85d-8916-4064-b5f8-997c4c66badf",
   "metadata": {},
   "source": [
    "There is a order difference between Nominal and Ordinal data type because in Nominal order does not matter but in Ordinal order is matter.\n",
    "\n",
    "EXAMPLE - Nominal -- EXAMPLE - COLOR\n",
    "\n",
    "RED - 5 (PEOPLE LIKE OUT OF 10)\n",
    "\n",
    "BLUE - 3 (PEOPLE LIKE OUT OF 10)\n",
    "\n",
    "PINK - 2 (PEOPLE LIKE OUT OF 10)\n",
    "\n",
    "we can't say that color red > pink \n",
    "\n",
    "\n",
    "\n",
    "\n",
    "EXAMPLE - EXAMPLE - REVIEW\n",
    "\n",
    "BEST\n",
    "\n",
    "GOOD\n",
    "\n",
    "BAD\n",
    "\n",
    "order matter -- best > bad"
   ]
  },
  {
   "cell_type": "markdown",
   "id": "34750bc0-8bbc-4130-960a-a651362242ee",
   "metadata": {},
   "source": [
    "Q8. Which type of plot can be used to display data in terms of range ?"
   ]
  },
  {
   "cell_type": "markdown",
   "id": "ed3c4482-b287-40f5-823f-1be27ac52a43",
   "metadata": {},
   "source": [
    "Histogram"
   ]
  },
  {
   "cell_type": "markdown",
   "id": "8a219b04-b7e8-48cb-8a99-78a602962d83",
   "metadata": {},
   "source": [
    "Q9. Describe the difference between descriptive and inferential statistics. Give an example of each\n",
    "type of statistics and explain how they are used."
   ]
  },
  {
   "cell_type": "markdown",
   "id": "8f528aee-84ff-4b6a-919a-f55e7fe4452e",
   "metadata": {},
   "source": [
    "Descriptive statistics summarize the characteristics of a data set.\n",
    "\n",
    "Inferential statistics allow you to test a hypothesis or assess whether your data is generalizable to the broader population."
   ]
  },
  {
   "cell_type": "markdown",
   "id": "5c932cc0-01ba-4990-b1b9-88cca7b77b72",
   "metadata": {},
   "source": [
    "student height in class \n",
    "\n",
    "190cm ,189cm ,170cm , 169cm , 150cm"
   ]
  },
  {
   "cell_type": "markdown",
   "id": "d122de01-e500-47e2-a04f-d0801cd9aa6b",
   "metadata": {},
   "source": [
    "if ve calculate mean of this data then it will comes in Descriptive statistics"
   ]
  },
  {
   "cell_type": "markdown",
   "id": "0123ea7d-e2f3-430c-9bf3-4c5ed9432384",
   "metadata": {},
   "source": [
    "if we are to estimate height of student in the entire collage from this data then it will comes in Inferential statistics we take sample data from population data."
   ]
  },
  {
   "cell_type": "markdown",
   "id": "42c79cc6-483d-471a-8e72-0dbfe2dd0b26",
   "metadata": {},
   "source": [
    "Q10. What are some common measures of central tendency and variability used in statistics? Explain\n",
    "how each measure can be used to describe a dataset."
   ]
  },
  {
   "cell_type": "markdown",
   "id": "28fe1bd0-a465-44e0-a928-8f29364a0452",
   "metadata": {},
   "source": [
    "the common measures of central tendency and variability used in statistics there is three commonly used  mean, median, mode and range."
   ]
  },
  {
   "cell_type": "markdown",
   "id": "0811fc5e-9806-40b0-ba2a-144ff20cfed6",
   "metadata": {},
   "source": [
    "let data set is [1,2,3,4,5,6,7,57,57,75,775]"
   ]
  },
  {
   "cell_type": "markdown",
   "id": "d4ea17e9-89fe-4c49-ac07-24b99f092692",
   "metadata": {},
   "source": [
    "mean - 90.181818181818\n",
    "\n",
    "median - 6\n",
    "\n",
    "mode - 57, appeared 2 times\n",
    "\n",
    "range - 774"
   ]
  },
  {
   "cell_type": "code",
   "execution_count": null,
   "id": "10ef8523-920a-431a-aeda-60e1774baa7c",
   "metadata": {},
   "outputs": [],
   "source": []
  }
 ],
 "metadata": {
  "kernelspec": {
   "display_name": "Python 3 (ipykernel)",
   "language": "python",
   "name": "python3"
  },
  "language_info": {
   "codemirror_mode": {
    "name": "ipython",
    "version": 3
   },
   "file_extension": ".py",
   "mimetype": "text/x-python",
   "name": "python",
   "nbconvert_exporter": "python",
   "pygments_lexer": "ipython3",
   "version": "3.10.8"
  }
 },
 "nbformat": 4,
 "nbformat_minor": 5
}
